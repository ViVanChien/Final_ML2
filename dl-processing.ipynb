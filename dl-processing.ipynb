{
 "cells": [
  {
   "cell_type": "code",
   "execution_count": 3,
   "id": "b4f17088-96e4-45d9-958b-42dfc855bd82",
   "metadata": {
    "tags": []
   },
   "outputs": [
    {
     "name": "stdout",
     "output_type": "stream",
     "text": [
      "Requirement already satisfied: wget in c:\\users\\protech\\anaconda3\\lib\\site-packages (3.2)\n",
      "Note: you may need to restart the kernel to use updated packages.\n"
     ]
    }
   ],
   "source": [
    "%pip install wget"
   ]
  },
  {
   "cell_type": "code",
   "execution_count": 4,
   "id": "ba20a547-2818-44e0-b74f-96fb419c69f5",
   "metadata": {
    "tags": []
   },
   "outputs": [],
   "source": [
    "import wget\n",
    "import os\n",
    "\n",
    "import gzip\n",
    "import pandas as pd "
   ]
  },
  {
   "cell_type": "code",
   "execution_count": null,
   "id": "53eab24c-ed12-4d81-9c49-61c128e12b66",
   "metadata": {
    "tags": []
   },
   "outputs": [],
   "source": [
    "URL =     [\n",
    "\n",
    "    \"Wireless_v1_00\",\n",
    "    \"Watches_v1_00\",\n",
    "    \"Video_Games_v1_00\",\n",
    "    \"Video_DVD_v1_00\",\n",
    "    \"Video_v1_00\",\n",
    "    \"Toys_v1_00\",\n",
    "    \"Tools_v1_00\",\n",
    "    \"Sports_v1_00\",\n",
    "    \"Software_v1_00\",\n",
    "    \"Shoes_v1_00\",\n",
    "    \"Pet_Products_v1_00\",\n",
    "    \"Personal_Care_Appliances_v1_00\",\n",
    "    \"PC_v1_00\",\n",
    "    \"Outdoors_v1_00\",\n",
    "    \"Office_Products_v1_00\",\n",
    "    \"Musical_Instruments_v1_00\",\n",
    "    \"Music_v1_00\",\n",
    "    \"Mobile_Electronics_v1_00\",\n",
    "    \"Mobile_Apps_v1_00\",\n",
    "    \"Major_Appliances_v1_00\",\n",
    "    \"Luggage_v1_00\",\n",
    "    \"Lawn_and_Garden_v1_00\",\n",
    "    \"Kitchen_v1_00\",\n",
    "    \"Jewelry_v1_00\",\n",
    "    \"Home_Improvement_v1_00\",\n",
    "    \"Home_Entertainment_v1_00\",\n",
    "    \"Home_v1_00\",\n",
    "    \"Health_Personal_Care_v1_00\",\n",
    "    \"Grocery_v1_00\",\n",
    "    \"Gift_Card_v1_00\",\n",
    "    \"Furniture_v1_00\",\n",
    "    \"Electronics_v1_00\",\n",
    "    \"Digital_Video_Games_v1_00\",\n",
    "    \"Digital_Video_Download_v1_00\",\n",
    "    \"Digital_Software_v1_00\",\n",
    "    \"Digital_Music_Purchase_v1_00\",\n",
    "    \"Digital_Ebook_Purchase_v1_00\",\n",
    "    \"Camera_v1_00\",\n",
    "    \"Books_v1_00\",\n",
    "    \"Beauty_v1_00\",\n",
    "    \"Baby_v1_00\",\n",
    "    \"Automotive_v1_00\",\n",
    "    \"Apparel_v1_00\",\n",
    "    \"Digital_Ebook_Purchase_v1_01\",\n",
    "    \"Books_v1_01\",\n",
    "    \"Books_v1_02\",\n",
    "\n",
    "]\n",
    "all_dfs=[]\n",
    "for i in URL:\n",
    "  response = wget.download(\"https://s3.amazonaws.com/amazon-reviews-pds/tsv/amazon_reviews_us_\" + i+ \".tsv.gz\",i + \".tsv.gz\")\n",
    "  print(response)\n",
    "  chunksize = 10000 # set chunksize as needed\n",
    "  dfs = []\n",
    "  with gzip.open(response) as f:\n",
    "    \n",
    "    for chunk in pd.read_csv(f,sep='\\t', on_bad_lines='skip',chunksize=1000):\n",
    "        dfs.append(chunk)\n",
    "    df = pd.concat(dfs,ignore_index=True)\n",
    "    new_df = df.sort_values(by = \"total_votes\", ascending = False).iloc[:200]\n",
    "    new_df.drop(columns=[\"review_headline\",\"review_body\"],axis = 1, inplace = True)\n",
    "    new_df.to_csv('./Dataset'+i+\".csv\", index = False)#\n",
    "    if os.path.exists(i + \".tsv.gz\"):\n",
    "      os.remove(i + \".tsv.gz\")\n",
    "    all_dfs.append(new_df)\n",
    "all_df=pd.concat(all_dfs,ignore_index=True)\n",
    "new_df.to_csv(\"./Dataset/all_catagories/Processed_all_datas.csv\", index = False)"
   ]
  },
  {
   "cell_type": "code",
   "execution_count": null,
   "id": "ab6b407b-93ef-4da1-a76b-4924328968d7",
   "metadata": {},
   "outputs": [],
   "source": []
  }
 ],
 "metadata": {
  "kernelspec": {
   "display_name": "Python 3 (ipykernel)",
   "language": "python",
   "name": "python3"
  },
  "language_info": {
   "codemirror_mode": {
    "name": "ipython",
    "version": 3
   },
   "file_extension": ".py",
   "mimetype": "text/x-python",
   "name": "python",
   "nbconvert_exporter": "python",
   "pygments_lexer": "ipython3",
   "version": "3.11.5"
  }
 },
 "nbformat": 4,
 "nbformat_minor": 5
}
