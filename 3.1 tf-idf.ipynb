{
 "cells": [
  {
   "cell_type": "markdown",
   "source": [
    "Import"
   ],
   "metadata": {
    "collapsed": false
   },
   "id": "8a64f5997321a373"
  },
  {
   "cell_type": "code",
   "execution_count": 2,
   "id": "initial_id",
   "metadata": {
    "collapsed": true,
    "ExecuteTime": {
     "end_time": "2024-01-02T15:16:34.449563200Z",
     "start_time": "2024-01-02T15:16:23.182428700Z"
    }
   },
   "outputs": [],
   "source": [
    "import pandas as pd \n",
    "import re\n",
    "from sklearn.feature_extraction.text import TfidfVectorizer\n",
    "from sklearn.metrics.pairwise import cosine_similarity"
   ]
  },
  {
   "cell_type": "code",
   "execution_count": 3,
   "outputs": [
    {
     "name": "stdout",
     "output_type": "stream",
     "text": [
      "(8600, 13)\n"
     ]
    }
   ],
   "source": [
    "data = pd.read_csv(\"./Dataset/all_catagories/Processed_all_datas.csv\")\n",
    "print(data.shape)"
   ],
   "metadata": {
    "collapsed": false,
    "ExecuteTime": {
     "end_time": "2024-01-02T15:16:34.503833300Z",
     "start_time": "2024-01-02T15:16:34.450645500Z"
    }
   },
   "id": "df1102a01139b8f"
  },
  {
   "cell_type": "code",
   "execution_count": 4,
   "outputs": [
    {
     "data": {
      "text/plain": "  marketplace  customer_id       review_id  product_id  product_parent  \\\n0          US     51632887  R3B581VNKYCP16  B00HFPOXM4       114966677   \n1          US     49452274   RT0KPKVSQD0HI  B00A17IAO0       979081054   \n2          US     44086587   RYBUAAD9JZ1VW  B001S2RCWI       835787812   \n3          US     49452274  R2Z0F95XGL71C6  B00GOGV314       190508754   \n4          US     18464808   RZ0J3PVMPU4CJ  B00DGEGJ02       212863722   \n\n                                 product_title product_category  star_rating  \\\n0                  Garmin Vivofit Fitness Band         Wireless          5.0   \n1                      UP by Jawbone Wristband         Wireless          5.0   \n2     Garmin Portable Friction Dashboard Mount         Wireless          5.0   \n3  UP24 by Jawbone Wristband, Retail Packaging         Wireless          5.0   \n4  Wemo Wi-Fi enabled, Works with Amazon Alexa         Wireless          1.0   \n\n   helpful_votes  total_votes vine verified_purchase review_date  \n0         5854.0       6063.0    N                 Y  2014-03-12  \n1         4856.0       5029.0    N                 Y  2012-11-27  \n2         4017.0       4048.0    N                 Y  2009-06-14  \n3         3914.0       4022.0    N                 N  2013-12-08  \n4         3667.0       3894.0    N                 Y  2013-11-01  ",
      "text/html": "<div>\n<style scoped>\n    .dataframe tbody tr th:only-of-type {\n        vertical-align: middle;\n    }\n\n    .dataframe tbody tr th {\n        vertical-align: top;\n    }\n\n    .dataframe thead th {\n        text-align: right;\n    }\n</style>\n<table border=\"1\" class=\"dataframe\">\n  <thead>\n    <tr style=\"text-align: right;\">\n      <th></th>\n      <th>marketplace</th>\n      <th>customer_id</th>\n      <th>review_id</th>\n      <th>product_id</th>\n      <th>product_parent</th>\n      <th>product_title</th>\n      <th>product_category</th>\n      <th>star_rating</th>\n      <th>helpful_votes</th>\n      <th>total_votes</th>\n      <th>vine</th>\n      <th>verified_purchase</th>\n      <th>review_date</th>\n    </tr>\n  </thead>\n  <tbody>\n    <tr>\n      <th>0</th>\n      <td>US</td>\n      <td>51632887</td>\n      <td>R3B581VNKYCP16</td>\n      <td>B00HFPOXM4</td>\n      <td>114966677</td>\n      <td>Garmin Vivofit Fitness Band</td>\n      <td>Wireless</td>\n      <td>5.0</td>\n      <td>5854.0</td>\n      <td>6063.0</td>\n      <td>N</td>\n      <td>Y</td>\n      <td>2014-03-12</td>\n    </tr>\n    <tr>\n      <th>1</th>\n      <td>US</td>\n      <td>49452274</td>\n      <td>RT0KPKVSQD0HI</td>\n      <td>B00A17IAO0</td>\n      <td>979081054</td>\n      <td>UP by Jawbone Wristband</td>\n      <td>Wireless</td>\n      <td>5.0</td>\n      <td>4856.0</td>\n      <td>5029.0</td>\n      <td>N</td>\n      <td>Y</td>\n      <td>2012-11-27</td>\n    </tr>\n    <tr>\n      <th>2</th>\n      <td>US</td>\n      <td>44086587</td>\n      <td>RYBUAAD9JZ1VW</td>\n      <td>B001S2RCWI</td>\n      <td>835787812</td>\n      <td>Garmin Portable Friction Dashboard Mount</td>\n      <td>Wireless</td>\n      <td>5.0</td>\n      <td>4017.0</td>\n      <td>4048.0</td>\n      <td>N</td>\n      <td>Y</td>\n      <td>2009-06-14</td>\n    </tr>\n    <tr>\n      <th>3</th>\n      <td>US</td>\n      <td>49452274</td>\n      <td>R2Z0F95XGL71C6</td>\n      <td>B00GOGV314</td>\n      <td>190508754</td>\n      <td>UP24 by Jawbone Wristband, Retail Packaging</td>\n      <td>Wireless</td>\n      <td>5.0</td>\n      <td>3914.0</td>\n      <td>4022.0</td>\n      <td>N</td>\n      <td>N</td>\n      <td>2013-12-08</td>\n    </tr>\n    <tr>\n      <th>4</th>\n      <td>US</td>\n      <td>18464808</td>\n      <td>RZ0J3PVMPU4CJ</td>\n      <td>B00DGEGJ02</td>\n      <td>212863722</td>\n      <td>Wemo Wi-Fi enabled, Works with Amazon Alexa</td>\n      <td>Wireless</td>\n      <td>1.0</td>\n      <td>3667.0</td>\n      <td>3894.0</td>\n      <td>N</td>\n      <td>Y</td>\n      <td>2013-11-01</td>\n    </tr>\n  </tbody>\n</table>\n</div>"
     },
     "execution_count": 4,
     "metadata": {},
     "output_type": "execute_result"
    }
   ],
   "source": [
    "data.head()"
   ],
   "metadata": {
    "collapsed": false,
    "ExecuteTime": {
     "end_time": "2024-01-02T15:16:34.554513700Z",
     "start_time": "2024-01-02T15:16:34.498306500Z"
    }
   },
   "id": "ab39b316909f8310"
  },
  {
   "cell_type": "code",
   "execution_count": 5,
   "outputs": [
    {
     "name": "stdout",
     "output_type": "stream",
     "text": [
      "(5946, 13)\n"
     ]
    }
   ],
   "source": [
    "data.dropna(subset=['marketplace','product_parent','product_title','product_category'],inplace=True,axis=0)\n",
    "data=data.drop_duplicates(subset=['product_id'])\n",
    "print(data.shape)"
   ],
   "metadata": {
    "collapsed": false,
    "ExecuteTime": {
     "end_time": "2024-01-02T15:16:34.556786Z",
     "start_time": "2024-01-02T15:16:34.536583500Z"
    }
   },
   "id": "b3a0d189a1e276e4"
  },
  {
   "cell_type": "code",
   "execution_count": 6,
   "outputs": [],
   "source": [
    "#remove Nan\n",
    "data.dropna(subset=['marketplace','product_parent','product_title','product_category'],inplace=True,axis=0)\n",
    "#Reset index\n",
    "data = data.reset_index(drop=True)"
   ],
   "metadata": {
    "collapsed": false,
    "ExecuteTime": {
     "end_time": "2024-01-02T15:16:34.569002900Z",
     "start_time": "2024-01-02T15:16:34.553401900Z"
    }
   },
   "id": "4b98df829bf12d14"
  },
  {
   "cell_type": "code",
   "execution_count": 7,
   "outputs": [],
   "source": [
    "#Remove non-alphanumeric characters from columns:\n",
    "data['marketplace'] = [re.sub(r'[^\\w\\s]', '', str(t)) for t in data['marketplace']]\n",
    "data['product_parent'] = [re.sub(r'[^\\w\\s]', '', str(t)) for t in data['product_parent']]\n",
    "data['product_title'] = [re.sub(r'[^\\w\\s]', '', str(t)) for t in data['product_title']]\n",
    "data['product_category'] = [re.sub(r'[^\\w\\s]', '', str(t)) for t in data['product_category']]"
   ],
   "metadata": {
    "collapsed": false,
    "ExecuteTime": {
     "end_time": "2024-01-02T15:16:34.646960600Z",
     "start_time": "2024-01-02T15:16:34.561297400Z"
    }
   },
   "id": "43704fe83213be5e"
  },
  {
   "cell_type": "code",
   "execution_count": 8,
   "outputs": [
    {
     "data": {
      "text/plain": "   customer_id       review_id  product_id  \\\n0     51632887  R3B581VNKYCP16  B00HFPOXM4   \n1     49452274   RT0KPKVSQD0HI  B00A17IAO0   \n2     44086587   RYBUAAD9JZ1VW  B001S2RCWI   \n3     49452274  R2Z0F95XGL71C6  B00GOGV314   \n4     18464808   RZ0J3PVMPU4CJ  B00DGEGJ02   \n\n                                product_title  star_rating  helpful_votes  \\\n0                 Garmin Vivofit Fitness Band          5.0         5854.0   \n1                     UP by Jawbone Wristband          5.0         4856.0   \n2    Garmin Portable Friction Dashboard Mount          5.0         4017.0   \n3  UP24 by Jawbone Wristband Retail Packaging          5.0         3914.0   \n4   Wemo WiFi enabled Works with Amazon Alexa          1.0         3667.0   \n\n   total_votes vine verified_purchase review_date  \\\n0       6063.0    N                 Y  2014-03-12   \n1       5029.0    N                 Y  2012-11-27   \n2       4048.0    N                 Y  2009-06-14   \n3       4022.0    N                 N  2013-12-08   \n4       3894.0    N                 Y  2013-11-01   \n\n                                            combined  \n0  US  114966677 Garmin Vivofit Fitness Band Wire...  \n1     US  979081054 UP by Jawbone Wristband Wireless  \n2  US  835787812 Garmin Portable Friction Dashboa...  \n3  US  190508754 UP24 by Jawbone Wristband Retail...  \n4  US  212863722 Wemo WiFi enabled Works with Ama...  ",
      "text/html": "<div>\n<style scoped>\n    .dataframe tbody tr th:only-of-type {\n        vertical-align: middle;\n    }\n\n    .dataframe tbody tr th {\n        vertical-align: top;\n    }\n\n    .dataframe thead th {\n        text-align: right;\n    }\n</style>\n<table border=\"1\" class=\"dataframe\">\n  <thead>\n    <tr style=\"text-align: right;\">\n      <th></th>\n      <th>customer_id</th>\n      <th>review_id</th>\n      <th>product_id</th>\n      <th>product_title</th>\n      <th>star_rating</th>\n      <th>helpful_votes</th>\n      <th>total_votes</th>\n      <th>vine</th>\n      <th>verified_purchase</th>\n      <th>review_date</th>\n      <th>combined</th>\n    </tr>\n  </thead>\n  <tbody>\n    <tr>\n      <th>0</th>\n      <td>51632887</td>\n      <td>R3B581VNKYCP16</td>\n      <td>B00HFPOXM4</td>\n      <td>Garmin Vivofit Fitness Band</td>\n      <td>5.0</td>\n      <td>5854.0</td>\n      <td>6063.0</td>\n      <td>N</td>\n      <td>Y</td>\n      <td>2014-03-12</td>\n      <td>US  114966677 Garmin Vivofit Fitness Band Wire...</td>\n    </tr>\n    <tr>\n      <th>1</th>\n      <td>49452274</td>\n      <td>RT0KPKVSQD0HI</td>\n      <td>B00A17IAO0</td>\n      <td>UP by Jawbone Wristband</td>\n      <td>5.0</td>\n      <td>4856.0</td>\n      <td>5029.0</td>\n      <td>N</td>\n      <td>Y</td>\n      <td>2012-11-27</td>\n      <td>US  979081054 UP by Jawbone Wristband Wireless</td>\n    </tr>\n    <tr>\n      <th>2</th>\n      <td>44086587</td>\n      <td>RYBUAAD9JZ1VW</td>\n      <td>B001S2RCWI</td>\n      <td>Garmin Portable Friction Dashboard Mount</td>\n      <td>5.0</td>\n      <td>4017.0</td>\n      <td>4048.0</td>\n      <td>N</td>\n      <td>Y</td>\n      <td>2009-06-14</td>\n      <td>US  835787812 Garmin Portable Friction Dashboa...</td>\n    </tr>\n    <tr>\n      <th>3</th>\n      <td>49452274</td>\n      <td>R2Z0F95XGL71C6</td>\n      <td>B00GOGV314</td>\n      <td>UP24 by Jawbone Wristband Retail Packaging</td>\n      <td>5.0</td>\n      <td>3914.0</td>\n      <td>4022.0</td>\n      <td>N</td>\n      <td>N</td>\n      <td>2013-12-08</td>\n      <td>US  190508754 UP24 by Jawbone Wristband Retail...</td>\n    </tr>\n    <tr>\n      <th>4</th>\n      <td>18464808</td>\n      <td>RZ0J3PVMPU4CJ</td>\n      <td>B00DGEGJ02</td>\n      <td>Wemo WiFi enabled Works with Amazon Alexa</td>\n      <td>1.0</td>\n      <td>3667.0</td>\n      <td>3894.0</td>\n      <td>N</td>\n      <td>Y</td>\n      <td>2013-11-01</td>\n      <td>US  212863722 Wemo WiFi enabled Works with Ama...</td>\n    </tr>\n  </tbody>\n</table>\n</div>"
     },
     "execution_count": 8,
     "metadata": {},
     "output_type": "execute_result"
    }
   ],
   "source": [
    "data[\"combined\"] = data['marketplace'] + '  ' + data['product_parent'] + ' ' + data['product_title'] + ' ' + data['product_category']\n",
    "data.drop(['marketplace','product_parent','product_category'],axis=1,inplace=True)\n",
    "data.head()"
   ],
   "metadata": {
    "collapsed": false,
    "ExecuteTime": {
     "end_time": "2024-01-02T15:16:34.649284700Z",
     "start_time": "2024-01-02T15:16:34.597629500Z"
    }
   },
   "id": "8641a57785b81a35"
  },
  {
   "cell_type": "code",
   "execution_count": 9,
   "outputs": [
    {
     "data": {
      "text/plain": "      customer_id       review_id  product_id  \\\n0        51632887  R3B581VNKYCP16  B00HFPOXM4   \n1        49452274   RT0KPKVSQD0HI  B00A17IAO0   \n2        44086587   RYBUAAD9JZ1VW  B001S2RCWI   \n3        49452274  R2Z0F95XGL71C6  B00GOGV314   \n4        18464808   RZ0J3PVMPU4CJ  B00DGEGJ02   \n...           ...             ...         ...   \n5941     50119287    RG13K28T0JHD  0060763280   \n5942     52827802  R3SWJQ4BEIEHDF  0385509510   \n5943     48890006   RPP8P15M3U2JL  0879838167   \n5944     50823784  R2MXU0D7H4MPX8  0465016901   \n5945     49524801   RQ0FM5161J72Z  1881273156   \n\n                                          product_title  star_rating  \\\n0                           Garmin Vivofit Fitness Band          5.0   \n1                               UP by Jawbone Wristband          5.0   \n2              Garmin Portable Friction Dashboard Mount          5.0   \n3            UP24 by Jawbone Wristband Retail Packaging          5.0   \n4             Wemo WiFi enabled Works with Amazon Alexa          1.0   \n...                                                 ...          ...   \n5941  Secrets of the Millionaire Mind Mastering the ...          5.0   \n5942  Under the Banner of Heaven A Story of Violent ...          5.0   \n5943                Nutrition and Physical Degeneration          5.0   \n5944  The Drama of the Gifted Child The Search for t...          4.0   \n5945  The Five Love Languages How to Express Heartfe...          5.0   \n\n      helpful_votes  total_votes vine verified_purchase review_date  \\\n0            5854.0       6063.0    N                 Y  2014-03-12   \n1            4856.0       5029.0    N                 Y  2012-11-27   \n2            4017.0       4048.0    N                 Y  2009-06-14   \n3            3914.0       4022.0    N                 N  2013-12-08   \n4            3667.0       3894.0    N                 Y  2013-11-01   \n...             ...          ...  ...               ...         ...   \n5941          941.0        990.0    N                 N  2005-03-23   \n5942          873.0        988.0    N                 N  2003-09-26   \n5943          961.0        980.0    N                 Y  2004-01-21   \n5944          950.0        980.0    N                 N  2000-11-07   \n5945          919.0        979.0    N                 N  2003-10-07   \n\n                                               combined  \n0     US  114966677 Garmin Vivofit Fitness Band Wire...  \n1        US  979081054 UP by Jawbone Wristband Wireless  \n2     US  835787812 Garmin Portable Friction Dashboa...  \n3     US  190508754 UP24 by Jawbone Wristband Retail...  \n4     US  212863722 Wemo WiFi enabled Works with Ama...  \n...                                                 ...  \n5941  US  846347314 Secrets of the Millionaire Mind ...  \n5942  US  418900469 Under the Banner of Heaven A Sto...  \n5943  US  472643259 Nutrition and Physical Degenerat...  \n5944  US  241968441 The Drama of the Gifted Child Th...  \n5945  US  277335936 The Five Love Languages How to E...  \n\n[5946 rows x 11 columns]",
      "text/html": "<div>\n<style scoped>\n    .dataframe tbody tr th:only-of-type {\n        vertical-align: middle;\n    }\n\n    .dataframe tbody tr th {\n        vertical-align: top;\n    }\n\n    .dataframe thead th {\n        text-align: right;\n    }\n</style>\n<table border=\"1\" class=\"dataframe\">\n  <thead>\n    <tr style=\"text-align: right;\">\n      <th></th>\n      <th>customer_id</th>\n      <th>review_id</th>\n      <th>product_id</th>\n      <th>product_title</th>\n      <th>star_rating</th>\n      <th>helpful_votes</th>\n      <th>total_votes</th>\n      <th>vine</th>\n      <th>verified_purchase</th>\n      <th>review_date</th>\n      <th>combined</th>\n    </tr>\n  </thead>\n  <tbody>\n    <tr>\n      <th>0</th>\n      <td>51632887</td>\n      <td>R3B581VNKYCP16</td>\n      <td>B00HFPOXM4</td>\n      <td>Garmin Vivofit Fitness Band</td>\n      <td>5.0</td>\n      <td>5854.0</td>\n      <td>6063.0</td>\n      <td>N</td>\n      <td>Y</td>\n      <td>2014-03-12</td>\n      <td>US  114966677 Garmin Vivofit Fitness Band Wire...</td>\n    </tr>\n    <tr>\n      <th>1</th>\n      <td>49452274</td>\n      <td>RT0KPKVSQD0HI</td>\n      <td>B00A17IAO0</td>\n      <td>UP by Jawbone Wristband</td>\n      <td>5.0</td>\n      <td>4856.0</td>\n      <td>5029.0</td>\n      <td>N</td>\n      <td>Y</td>\n      <td>2012-11-27</td>\n      <td>US  979081054 UP by Jawbone Wristband Wireless</td>\n    </tr>\n    <tr>\n      <th>2</th>\n      <td>44086587</td>\n      <td>RYBUAAD9JZ1VW</td>\n      <td>B001S2RCWI</td>\n      <td>Garmin Portable Friction Dashboard Mount</td>\n      <td>5.0</td>\n      <td>4017.0</td>\n      <td>4048.0</td>\n      <td>N</td>\n      <td>Y</td>\n      <td>2009-06-14</td>\n      <td>US  835787812 Garmin Portable Friction Dashboa...</td>\n    </tr>\n    <tr>\n      <th>3</th>\n      <td>49452274</td>\n      <td>R2Z0F95XGL71C6</td>\n      <td>B00GOGV314</td>\n      <td>UP24 by Jawbone Wristband Retail Packaging</td>\n      <td>5.0</td>\n      <td>3914.0</td>\n      <td>4022.0</td>\n      <td>N</td>\n      <td>N</td>\n      <td>2013-12-08</td>\n      <td>US  190508754 UP24 by Jawbone Wristband Retail...</td>\n    </tr>\n    <tr>\n      <th>4</th>\n      <td>18464808</td>\n      <td>RZ0J3PVMPU4CJ</td>\n      <td>B00DGEGJ02</td>\n      <td>Wemo WiFi enabled Works with Amazon Alexa</td>\n      <td>1.0</td>\n      <td>3667.0</td>\n      <td>3894.0</td>\n      <td>N</td>\n      <td>Y</td>\n      <td>2013-11-01</td>\n      <td>US  212863722 Wemo WiFi enabled Works with Ama...</td>\n    </tr>\n    <tr>\n      <th>...</th>\n      <td>...</td>\n      <td>...</td>\n      <td>...</td>\n      <td>...</td>\n      <td>...</td>\n      <td>...</td>\n      <td>...</td>\n      <td>...</td>\n      <td>...</td>\n      <td>...</td>\n      <td>...</td>\n    </tr>\n    <tr>\n      <th>5941</th>\n      <td>50119287</td>\n      <td>RG13K28T0JHD</td>\n      <td>0060763280</td>\n      <td>Secrets of the Millionaire Mind Mastering the ...</td>\n      <td>5.0</td>\n      <td>941.0</td>\n      <td>990.0</td>\n      <td>N</td>\n      <td>N</td>\n      <td>2005-03-23</td>\n      <td>US  846347314 Secrets of the Millionaire Mind ...</td>\n    </tr>\n    <tr>\n      <th>5942</th>\n      <td>52827802</td>\n      <td>R3SWJQ4BEIEHDF</td>\n      <td>0385509510</td>\n      <td>Under the Banner of Heaven A Story of Violent ...</td>\n      <td>5.0</td>\n      <td>873.0</td>\n      <td>988.0</td>\n      <td>N</td>\n      <td>N</td>\n      <td>2003-09-26</td>\n      <td>US  418900469 Under the Banner of Heaven A Sto...</td>\n    </tr>\n    <tr>\n      <th>5943</th>\n      <td>48890006</td>\n      <td>RPP8P15M3U2JL</td>\n      <td>0879838167</td>\n      <td>Nutrition and Physical Degeneration</td>\n      <td>5.0</td>\n      <td>961.0</td>\n      <td>980.0</td>\n      <td>N</td>\n      <td>Y</td>\n      <td>2004-01-21</td>\n      <td>US  472643259 Nutrition and Physical Degenerat...</td>\n    </tr>\n    <tr>\n      <th>5944</th>\n      <td>50823784</td>\n      <td>R2MXU0D7H4MPX8</td>\n      <td>0465016901</td>\n      <td>The Drama of the Gifted Child The Search for t...</td>\n      <td>4.0</td>\n      <td>950.0</td>\n      <td>980.0</td>\n      <td>N</td>\n      <td>N</td>\n      <td>2000-11-07</td>\n      <td>US  241968441 The Drama of the Gifted Child Th...</td>\n    </tr>\n    <tr>\n      <th>5945</th>\n      <td>49524801</td>\n      <td>RQ0FM5161J72Z</td>\n      <td>1881273156</td>\n      <td>The Five Love Languages How to Express Heartfe...</td>\n      <td>5.0</td>\n      <td>919.0</td>\n      <td>979.0</td>\n      <td>N</td>\n      <td>N</td>\n      <td>2003-10-07</td>\n      <td>US  277335936 The Five Love Languages How to E...</td>\n    </tr>\n  </tbody>\n</table>\n<p>5946 rows × 11 columns</p>\n</div>"
     },
     "execution_count": 9,
     "metadata": {},
     "output_type": "execute_result"
    }
   ],
   "source": [
    "data"
   ],
   "metadata": {
    "collapsed": false,
    "ExecuteTime": {
     "end_time": "2024-01-02T15:16:34.709614800Z",
     "start_time": "2024-01-02T15:16:34.617957400Z"
    }
   },
   "id": "8a963493a40ccbb0"
  },
  {
   "cell_type": "code",
   "execution_count": 10,
   "outputs": [],
   "source": [
    "# Content Similarity\n",
    "vectorizer = TfidfVectorizer()\n",
    "tfidf_matrix = vectorizer.fit_transform(data['combined'])\n",
    "\n",
    "#Finding cosine similarity between vectors\n",
    "cosine_similarities = cosine_similarity(tfidf_matrix,tfidf_matrix)\n",
    "# Tạo một Series với chỉ mục là tiêu đề sản phẩm và giá trị là chỉ mục tương ứng trong dữ liệu\n",
    "p_title = data['product_title']\n",
    "indices = pd.Series(data.index, index=data['product_title'])"
   ],
   "metadata": {
    "collapsed": false,
    "ExecuteTime": {
     "end_time": "2024-01-02T15:16:35.372078Z",
     "start_time": "2024-01-02T15:16:34.633315100Z"
    }
   },
   "id": "45308a7e09e433e"
  },
  {
   "cell_type": "code",
   "execution_count": 11,
   "outputs": [
    {
     "data": {
      "text/plain": "(5946, 16982)"
     },
     "execution_count": 11,
     "metadata": {},
     "output_type": "execute_result"
    }
   ],
   "source": [
    "tfidf_matrix.get_shape()"
   ],
   "metadata": {
    "collapsed": false,
    "ExecuteTime": {
     "end_time": "2024-01-02T15:16:35.387130600Z",
     "start_time": "2024-01-02T15:16:35.375605600Z"
    }
   },
   "id": "8640dad362e1cc4a"
  },
  {
   "cell_type": "code",
   "execution_count": 12,
   "outputs": [
    {
     "name": "stdout",
     "output_type": "stream",
     "text": [
      "    578435577    galaxy        s5   samsung       us  wireless\n",
      "80   0.586151  0.422566  0.511203  0.366558  0.06822  0.278419\n"
     ]
    }
   ],
   "source": [
    "name = vectorizer.get_feature_names_out()\n",
    "df_tf_idf = pd.DataFrame(tfidf_matrix .toarray(), columns = name)\n",
    "v = df_tf_idf.iloc[[80]]\n",
    "v = v.loc[:, v.any()]\n",
    "print(v)"
   ],
   "metadata": {
    "collapsed": false,
    "ExecuteTime": {
     "end_time": "2024-01-02T15:16:35.482162600Z",
     "start_time": "2024-01-02T15:16:35.383702500Z"
    }
   },
   "id": "3474153b8348ace8"
  },
  {
   "cell_type": "code",
   "execution_count": null,
   "outputs": [],
   "source": [],
   "metadata": {
    "collapsed": false
   },
   "id": "805278a5745c0a41"
  }
 ],
 "metadata": {
  "kernelspec": {
   "display_name": "Python 3",
   "language": "python",
   "name": "python3"
  },
  "language_info": {
   "codemirror_mode": {
    "name": "ipython",
    "version": 2
   },
   "file_extension": ".py",
   "mimetype": "text/x-python",
   "name": "python",
   "nbconvert_exporter": "python",
   "pygments_lexer": "ipython2",
   "version": "2.7.6"
  }
 },
 "nbformat": 4,
 "nbformat_minor": 5
}
